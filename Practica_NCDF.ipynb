{
  "nbformat": 4,
  "nbformat_minor": 0,
  "metadata": {
    "colab": {
      "provenance": [],
      "include_colab_link": true
    },
    "kernelspec": {
      "name": "ir",
      "display_name": "R"
    },
    "language_info": {
      "name": "R"
    }
  },
  "cells": [
    {
      "cell_type": "markdown",
      "metadata": {
        "id": "view-in-github",
        "colab_type": "text"
      },
      "source": [
        "<a href=\"https://colab.research.google.com/github/gaston85/Practica4/blob/main/Practica_NCDF.ipynb\" target=\"_parent\"><img src=\"https://colab.research.google.com/assets/colab-badge.svg\" alt=\"Open In Colab\"/></a>"
      ]
    },
    {
      "cell_type": "markdown",
      "source": [
        "#Google Colab\n",
        "\n",
        "\n",
        "R y Markdown en Colab/Jupyter"
      ],
      "metadata": {
        "id": "a4MJl03t1ehZ"
      }
    },
    {
      "cell_type": "markdown",
      "source": [
        "##Tipos de celdas y como ejecutarlas"
      ],
      "metadata": {
        "id": "hDt0ZLL75sIg"
      }
    },
    {
      "cell_type": "markdown",
      "source": [
        "Esto es una línea de texto (--> Hacer doble click sobre este celda para editarla <--)"
      ],
      "metadata": {
        "id": "gTPQAm39B3Or"
      }
    },
    {
      "cell_type": "code",
      "source": [
        "#Esto es una línea de código\n",
        "print(\"Hola mundo!\")"
      ],
      "metadata": {
        "id": "ygc199bQ5rc0",
        "colab": {
          "base_uri": "https://localhost:8080/"
        },
        "outputId": "eee2b541-8efe-44fb-efc7-56de0064a278"
      },
      "execution_count": 4,
      "outputs": [
        {
          "output_type": "stream",
          "name": "stdout",
          "text": [
            "[1] \"Hola mundo!\"\n"
          ]
        }
      ]
    },
    {
      "cell_type": "markdown",
      "source": [
        "## Nucleo/entorno de ejecución\n",
        "\n",
        "Google Colab utiliza como entorno de ejecución Python (versión 3) y de R sobre diferentes configuraciones del equipo, como CPU o que posea además algún acelerador (utilizando GPU o TPU).\n",
        "\n",
        "Existe un límite de tiempo de uso del servicio de Colab (unas 12 horas corridas), 100 GB almacenamiento (durante la duración de la conexión) y 12 GB de RAM. Recuerden que es una Maquina Virtual, después de la finalización de la sesión se pierden los contenidos guardados (datos y variables). Solo quedan las salidas de las celdas de ejecución.\n",
        "\n",
        "Sin embargo, tanto el uso de aceleradores como los límites indicados solo se\n",
        "tornan relevantes para el caso de códigos muy complejos. No es necesario\n",
        "preocuparse por ellos para el caso de desarrollar códigos simples.\n",
        "\n",
        "\\\n",
        "**A tener en cuenta!!!**\n",
        "\n",
        "Puede ocurrir que nos pongamos a realizar otra cosa o nos fuimos a hacer a algo, y la sesión quedó abierta. Lo que ocurre es después de un tiempo de inactividad la sesión se cae. Cuando retomemos la sesión clikeando en **Reconectar**, abajo del botón \"Compartir\", suele (¡Tengan cuidado!) que los archivos que teniamos cargados se quedan aún en el entorno por lo que no es necesario volverlo a cargar.\n",
        "\n",
        "\\\n",
        "En la barra de herramientas arriba de la notebook hacia la izquierda encontraran la solapa \"Editar\", dentro de llega tienen la opción de **Configuración del Notebook**. Aca es donde pueden modificar el entorno de ejecución (Python o R) y los aceleradores que deseamos utilizar (CPU, GPU, TPU)."
      ],
      "metadata": {
        "id": "-gM7Vcoq4d54"
      }
    },
    {
      "cell_type": "markdown",
      "source": [
        "## Añadiendo celdas\n",
        "Para añadir nuevas celdas usando los botones **+ Código** and **+ Texto** que se muestran cuando pasamos el mouse entre las celdas. Estos botones se encuentran también en la barra de herramientas sobre la notebook, se añadiran debajo de la celda seleccionada.\n",
        "\n",
        "Se pueden mover una seleccionandola y haciendo click en **Mover celda hacia arriba** ⇑ o **Mover celda hacia abajo** ⇓\n",
        "\n",
        "\n",
        "Prueben con la celda de abajo:"
      ],
      "metadata": {
        "id": "itQFrk0g0y76"
      }
    },
    {
      "cell_type": "code",
      "source": [],
      "metadata": {
        "id": "5-KZGcDi21JN",
        "colab": {
          "base_uri": "https://localhost:8080/"
        },
        "outputId": "ef7648b7-0616-4961-f4cd-82a71571115e"
      },
      "execution_count": 5,
      "outputs": [
        {
          "output_type": "stream",
          "name": "stdout",
          "text": [
            "[1] \"Hola\"\n"
          ]
        }
      ]
    },
    {
      "cell_type": "markdown",
      "source": [
        "##Estética de las notebook\n",
        "\n",
        "En el engranaje al lado de nuestro perfil, encontraremos las configuraciones de aspecto para la notebook (además de Colab Pro y Github)\n",
        "- En **sitio/site** veran pueden configurar el tema de la notebook.\n",
        "- En **editor** tienen las opciones para configurar la fuente de texto en el código, cómo demás artilugios relacionados con su estructura.\n",
        "- En **varios/miscellaneous** pueden poner perros, gatitos y cangrejos caminando arriba de la notebook y en Nivel de Poder/Power Level un motivación para codear rápido.\n",
        "\n",
        "##Referencias\n",
        "\n",
        "* <a href=\"https://colab.research.google.com/?hl=es#scrollTo=lSrWNr3MuFUS\">Bienvenida a Colab</a>.\n",
        "* <a href=\"https://colab.research.google.com/notebooks/basic_features_overview.ipynb#scrollTo=_YrTcK7k22Fp\">Características</a>.\n",
        "* <a href=\"https://colab.research.google.com/notebooks/markdown_guide.ipynb\"> Guía de Markdown en Colab</a>.\n",
        "* <a href=\"https://colab.research.google.com/github/googlecolab/colabtools/blob/main/notebooks/colab-github-demo.ipynb#scrollTo=8QAWNjizy_3O\">Github</a>\n",
        "* <a href=\"https://nbviewer.org/github/ipython/ipython/blob/1.x/examples/notebooks/Cell%20Magics.ipynb\">Jupyter Magics</a> (solo Python)\n",
        "* <a href=\"https://fcaglp.unlp.edu.ar/~gbaume/grupo/Publicaciones/Apuntes/GoogleColab.pdf\">Apunte</a>"
      ],
      "metadata": {
        "id": "o0BcHeSSo-ZD"
      }
    },
    {
      "cell_type": "markdown",
      "source": [
        "#Trabajando con fechas con la libreria Lubridate"
      ],
      "metadata": {
        "id": "hcL7OWNR8R-y"
      }
    },
    {
      "cell_type": "code",
      "source": [
        "install.packages(\"lubridate\")\n",
        "library(lubridate)"
      ],
      "metadata": {
        "id": "0vvp8XTlNJQh",
        "colab": {
          "base_uri": "https://localhost:8080/"
        },
        "outputId": "c9f9f152-ee55-49a4-9d85-1938cc74ca97"
      },
      "execution_count": 7,
      "outputs": [
        {
          "output_type": "stream",
          "name": "stderr",
          "text": [
            "Installing package into ‘/usr/local/lib/R/site-library’\n",
            "(as ‘lib’ is unspecified)\n",
            "\n"
          ]
        }
      ]
    },
    {
      "cell_type": "markdown",
      "source": [
        "Vamos a definir una fecha y horario completo para manipularla con la función ymd_hms(fecha).\n",
        "\n",
        "Ingresen la fecha de nacimiento de ustedes en el formato **\"YYYY-MM-DD HH-mm-ss\"\"** e impriman la clase a la que corresponde:"
      ],
      "metadata": {
        "id": "ELps6azLNUBM"
      }
    },
    {
      "cell_type": "code",
      "source": [
        "fecha_nacimiento <- ymd_hms(\"2001-04-20 14:00:00\")\n",
        "fecha_nacimiento\n",
        "\n",
        "class(fecha_nacimiento)"
      ],
      "metadata": {
        "id": "VmoLhRqc82C_",
        "colab": {
          "base_uri": "https://localhost:8080/",
          "height": 52
        },
        "outputId": "9c8c5030-f628-4c27-8b85-841cdf0ae643"
      },
      "execution_count": 39,
      "outputs": [
        {
          "output_type": "display_data",
          "data": {
            "text/plain": [
              "[1] \"2001-04-20 14:00:00 UTC\""
            ]
          },
          "metadata": {}
        },
        {
          "output_type": "display_data",
          "data": {
            "text/html": [
              "<style>\n",
              ".list-inline {list-style: none; margin:0; padding: 0}\n",
              ".list-inline>li {display: inline-block}\n",
              ".list-inline>li:not(:last-child)::after {content: \"\\00b7\"; padding: 0 .5ex}\n",
              "</style>\n",
              "<ol class=list-inline><li>'POSIXct'</li><li>'POSIXt'</li></ol>\n"
            ],
            "text/markdown": "1. 'POSIXct'\n2. 'POSIXt'\n\n\n",
            "text/latex": "\\begin{enumerate*}\n\\item 'POSIXct'\n\\item 'POSIXt'\n\\end{enumerate*}\n",
            "text/plain": [
              "[1] \"POSIXct\" \"POSIXt\" "
            ]
          },
          "metadata": {}
        }
      ]
    },
    {
      "cell_type": "markdown",
      "source": [
        "'POSIXct' (ct -> CommonTime) es una representación interna de R para guardar fechas y horas. A grandes rasgos es una codificación en su parte entera de la fecha, y en los decimales la parte de la hora."
      ],
      "metadata": {
        "id": "5IWKyL2fOZ-9"
      }
    },
    {
      "cell_type": "markdown",
      "source": [
        "Prueben de utilizar las funciones **year()**, **month()**, **day()**, **hour()**, **minute()**, **second()** sobre la variable de fecha que definimos, y vean que les devuelve."
      ],
      "metadata": {
        "id": "ZWAstaydH7xx"
      }
    },
    {
      "cell_type": "code",
      "source": [],
      "metadata": {
        "id": "ldg5u7T_JSEf",
        "colab": {
          "base_uri": "https://localhost:8080/",
          "height": 34
        },
        "outputId": "217af528-fe2f-42db-9200-32bcaa0e7abc"
      },
      "execution_count": 41,
      "outputs": [
        {
          "output_type": "display_data",
          "data": {
            "text/html": [
              "10000d 0H 0M 0S"
            ],
            "text/markdown": "10000d 0H 0M 0S",
            "text/latex": "10000d 0H 0M 0S",
            "text/plain": [
              "[1] \"10000d 0H 0M 0S\""
            ]
          },
          "metadata": {}
        }
      ]
    },
    {
      "cell_type": "markdown",
      "source": [
        "##Duraciones\n",
        "\n",
        "Existe una gama de funciones llamadas de forma similar a las anteriores llamadas duraciones. A un conjunto se la escribe en plural y a otro conjunto adicionalmente a esto, se le agrega una \"d\" adelante de la duración. Si se le sumo un año a mi variable fecha. ¿Qué me devuelve?. Luego prueben de sumar 1.5 años **(No la guarden o guardenlas en un variable nueva)**\n",
        "\n",
        "* year( ) ⇒ years( ) | dyears( )\n",
        "* month( ) ⇒ months( ) | dmonths( )\n",
        "* day( ) ⇒ days( ) | ddays( )\n",
        "* hour( ) ⇒ hours( ) | dhours( )\n",
        "* minute( ) ⇒ minutes( ) | dminutes( )\n",
        "* second( ) ⇒ seconds( ) | dseconds( )"
      ],
      "metadata": {
        "id": "UPSWjArt0CmB"
      }
    },
    {
      "cell_type": "code",
      "source": [
        "fecha_nacimiento + years(1)\n",
        "fecha_nacimiento + dyears(1)"
      ],
      "metadata": {
        "id": "HXzJJ4SooTNi",
        "colab": {
          "base_uri": "https://localhost:8080/",
          "height": 52
        },
        "outputId": "a6c927fc-df53-4b8b-d5c7-f6f4b9d2c4ef"
      },
      "execution_count": 17,
      "outputs": [
        {
          "output_type": "display_data",
          "data": {
            "text/plain": [
              "[1] \"2002-04-20 14:00:00 UTC\""
            ]
          },
          "metadata": {}
        },
        {
          "output_type": "display_data",
          "data": {
            "text/plain": [
              "[1] \"2002-04-20 20:00:00 UTC\""
            ]
          },
          "metadata": {}
        }
      ]
    },
    {
      "cell_type": "markdown",
      "source": [
        "Impriman years(1) e dyears(1)"
      ],
      "metadata": {
        "id": "GEDJTPANs3gK"
      }
    },
    {
      "cell_type": "code",
      "source": [
        "years(1)\n",
        "dyears(1) /60/60/24"
      ],
      "metadata": {
        "colab": {
          "base_uri": "https://localhost:8080/",
          "height": 52
        },
        "id": "SF4Do_ywUQ-r",
        "outputId": "78857b52-a623-4d37-8c5c-d4b17a3f4f1d"
      },
      "execution_count": 24,
      "outputs": [
        {
          "output_type": "display_data",
          "data": {
            "text/html": [
              "1y 0m 0d 0H 0M 0S"
            ],
            "text/markdown": "1y 0m 0d 0H 0M 0S",
            "text/latex": "1y 0m 0d 0H 0M 0S",
            "text/plain": [
              "[1] \"1y 0m 0d 0H 0M 0S\""
            ]
          },
          "metadata": {}
        },
        {
          "output_type": "display_data",
          "data": {
            "text/html": [
              "365.25s (~6.09 minutes)"
            ],
            "text/markdown": "365.25s (~6.09 minutes)",
            "text/latex": "365.25s (\\textasciitilde{}6.09 minutes)",
            "text/plain": [
              "[1] \"365.25s (~6.09 minutes)\""
            ]
          },
          "metadata": {}
        }
      ]
    },
    {
      "cell_type": "markdown",
      "source": [
        "### Calculando diferencias entre tiempos\n",
        "\n",
        "Queremos tener el tiempo de este momento, podemos utilizar la función **now()** de lubridate que nos da la fecha y el horario del momento en que se ejecuta la línea de código.\n",
        "\n",
        "Definan la variable con now, ejecuten la variable sola y luego imprimanla por pantalla con **print** que diga algún mensaje del estilo \"El tiempo actual es: \", ¿Les devuelve lo mismo?."
      ],
      "metadata": {
        "id": "qnplzNIKIol3"
      }
    },
    {
      "cell_type": "code",
      "source": [
        "Ahora<-now()\n",
        "Ahora\n",
        "print(paste0(\"El tiempo actual es: \",Ahora))"
      ],
      "metadata": {
        "id": "ycIvURNhgnN_",
        "colab": {
          "base_uri": "https://localhost:8080/",
          "height": 52
        },
        "outputId": "87e5face-04b2-455d-c559-9a2b29353a40"
      },
      "execution_count": 30,
      "outputs": [
        {
          "output_type": "display_data",
          "data": {
            "text/plain": [
              "[1] \"2023-10-26 14:14:29 UTC\""
            ]
          },
          "metadata": {}
        },
        {
          "output_type": "stream",
          "name": "stdout",
          "text": [
            "[1] \"El tiempo actual es: 2023-10-26 14:14:29.996992\"\n"
          ]
        }
      ]
    },
    {
      "cell_type": "markdown",
      "source": [
        "###Formato\n",
        "\n",
        "Para cambiar el formato de las variables de tipo fecha podemos utilizar **format()**. Es muy útil para utilizar las fechas en el formato que deseemos por ejemplo:\n",
        "\n",
        "* fecha_formato1 <- format(fecha, %d/%m/%Y %H%M%S) #Formato dd/mm/YYYY HHMMSS.\n",
        "* fecha_formato2 <- format(fecha, tz=\"\"), sigue siendo UTC, pero le sacamos que diga UTC.\n",
        "* fecha_formato3 <- format(fecha, \"%A, %d de %B de %Y\"), Wednesday, 14 de July de 2023 (Ejemplo).\n",
        "\n",
        "Prueben este formato para corregir lo que nos ocurre cuando lo usamos en un print en un mensaje."
      ],
      "metadata": {
        "id": "KMCOOd5XRQqn"
      }
    },
    {
      "cell_type": "code",
      "source": [
        "Ahora<-format(now(),tz=\"\")\n",
        "Ahora\n",
        "print(paste0(\"El tiempo actual es: \",Ahora))"
      ],
      "metadata": {
        "id": "0iON-gbhRQ9p",
        "colab": {
          "base_uri": "https://localhost:8080/",
          "height": 52
        },
        "outputId": "ce5c5d11-011a-447c-f1b6-9744a740712d"
      },
      "execution_count": 35,
      "outputs": [
        {
          "output_type": "display_data",
          "data": {
            "text/html": [
              "'2023-10-26 14:18:25'"
            ],
            "text/markdown": "'2023-10-26 14:18:25'",
            "text/latex": "'2023-10-26 14:18:25'",
            "text/plain": [
              "[1] \"2023-10-26 14:18:25\""
            ]
          },
          "metadata": {}
        },
        {
          "output_type": "stream",
          "name": "stdout",
          "text": [
            "[1] \"El tiempo actual es: 2023-10-26 14:18:25\"\n"
          ]
        }
      ]
    },
    {
      "cell_type": "markdown",
      "source": [
        "###Diferencia de tiempo\n",
        "\n",
        "Con la función **difftime(fecha_ini, fecha_fin, , units = \"days\")**, podemos calcular cuanta distancia temporal exiten entre dos variables de tiempo.\n",
        "\n",
        "Queremos conocer cuanto tiempo paso entre que nacieron y este momento."
      ],
      "metadata": {
        "id": "JYGSRSKsQ_iA"
      }
    },
    {
      "cell_type": "code",
      "source": [
        "diferencia <- difftime(Ahora, fecha_nacimiento, units = \"days\")\n",
        "diferencia"
      ],
      "metadata": {
        "colab": {
          "base_uri": "https://localhost:8080/",
          "height": 34
        },
        "id": "0SeTTHl_Q-lI",
        "outputId": "bd5957bc-09c9-4ec3-f2ce-cc1b3255a3dc"
      },
      "execution_count": 47,
      "outputs": [
        {
          "output_type": "display_data",
          "data": {
            "text/plain": [
              "Time difference of 8224.013 days"
            ]
          },
          "metadata": {}
        }
      ]
    },
    {
      "cell_type": "markdown",
      "source": [
        "###Practiquen\n",
        "\n",
        "¿Qué día de su vida será el 10000 de su vida? ¿Cuánto tiempo falta para eso?"
      ],
      "metadata": {
        "id": "yJGl1evvu2F7"
      }
    },
    {
      "cell_type": "code",
      "source": [
        "dia_10000<-fecha_nacimiento + ddays(10000)\n",
        "dia_10000\n",
        "diferencia <- difftime(dia_10000, now())\n",
        "diferencia"
      ],
      "metadata": {
        "id": "ZE325zRsypwF",
        "colab": {
          "base_uri": "https://localhost:8080/",
          "height": 52
        },
        "outputId": "66f6b918-24e3-40b3-f9ae-a06bfade6039"
      },
      "execution_count": 49,
      "outputs": [
        {
          "output_type": "display_data",
          "data": {
            "text/plain": [
              "[1] \"2028-09-05 14:00:00 UTC\""
            ]
          },
          "metadata": {}
        },
        {
          "output_type": "display_data",
          "data": {
            "text/plain": [
              "Time difference of 1775.982 days"
            ]
          },
          "metadata": {}
        }
      ]
    },
    {
      "cell_type": "markdown",
      "source": [
        "#NetCDF\n",
        "\n",
        "NetCDF (Network Common Data Form) es un conjunto de bibliotecas de software y formatos de datos independientes de la máquina que permiten crear, acceder y compartir datos científicos orientados a matrices. También es un estándar comunitario para compartir datos científicos.\n",
        "\n",
        "El Centro de Programas <a href=\"https://www.unidata.ucar.edu/\">Unidata</a> soporta y mantiene interfaces de programación netCDF para C, C++, Java y Fortran. También hay disponibles interfaces de programación para Python, IDL, MATLAB, **R**, Ruby y Perl.\n",
        "\n",
        "##Características\n",
        "- **Autodescrito**. Un archivo netCDF incluye información sobre el que contiene.\n",
        "\n",
        "- **Portátil**. Un archivo netCDF se puede acceder por computadoras con diferentes maneras de almacenar números enteros, caracteres y punto flotante.\n",
        "\n",
        "- **Escalable**. A través de las interfaces netCDF se puede acceder eficazmente a pequeños subconjuntos de grandes conjuntos de datos en diversos formatos, incluso desde servidores remotos.\n",
        "\n",
        "- **Anexables**. Los datos pueden añadirse a un archivo netCDF correctamente estructurado sin copiar el conjunto de datos ni redefinir su estructura.\n",
        "\n",
        "- **Compartible**. Un escritor y varios lectores pueden acceder simultáneamente al mismo archivo netCDF.\n",
        "\n",
        "- **Archivable**. El acceso a todas las formas anteriores de netCDF serán compatibles con las versiones y futuras versiones del software.\n",
        "\n",
        "Más info ⇒ <a href=\"https://www.unidata.ucar.edu/publications/factsheets/current/factsheet_netcdf.pdf\">factsheets netCDF</a>."
      ],
      "metadata": {
        "id": "FI0oJz2CsDpl"
      }
    },
    {
      "cell_type": "markdown",
      "source": [
        "#Ejercicio\n",
        "\n",
        "Instalamos y llamos a las librerias que vamos a utilizar. Lubridate ya la tenemos a disposición."
      ],
      "metadata": {
        "id": "ifwiW3z8Um-v"
      }
    },
    {
      "cell_type": "code",
      "execution_count": 50,
      "metadata": {
        "id": "06UzKShaTFrT",
        "colab": {
          "base_uri": "https://localhost:8080/"
        },
        "outputId": "9d7a8e50-f162-4994-cf64-e851efbf23c6"
      },
      "outputs": [
        {
          "output_type": "stream",
          "name": "stderr",
          "text": [
            "Installing package into ‘/usr/local/lib/R/site-library’\n",
            "(as ‘lib’ is unspecified)\n",
            "\n"
          ]
        }
      ],
      "source": [
        "rm(list=ls())\n",
        "install.packages(\"ncdf4\")\n",
        "library(ncdf4)"
      ]
    },
    {
      "cell_type": "markdown",
      "source": [
        "##Descargamos un archivo NCDF\n",
        "Vamos a utilizar la función intríseca \"**download.file(url,destino)**\" de R para hacerlo. Esto nos dará un archivo de tipo .zip que luego utilizaremos la función ***unzip*** para abri dicho archivo.\n",
        "\n",
        "En este caso trabajaremos con datos de estimaciones de precipitación horarios, que es un producto disponible en el Center for Hydrometeorology and Remote Sensing (CHRS), ver <a href=\"http://chrsdata.eng.uci.edu/\">link</a>."
      ],
      "metadata": {
        "id": "vxro-sbYrn70"
      }
    },
    {
      "cell_type": "code",
      "source": [
        "url <- \"https://chrsdata.eng.uci.edu/userFile/PERSIANN-PDIR/sergiohgonzalezxmwimL.zip\"\n",
        "nombre_datos <- \"Datos_PERSIANN_PDIR.zip\"\n",
        "\n",
        "download.file(url, paste0(\"/content/\",nombre_datos))"
      ],
      "metadata": {
        "id": "H7t6aZSnLJCJ"
      },
      "execution_count": 51,
      "outputs": []
    },
    {
      "cell_type": "code",
      "source": [
        "unzip(\"/content/Datos_PERSIANN_PDIR.zip\", exdir = \"/content/\")"
      ],
      "metadata": {
        "id": "0SSQz6eQLN1w"
      },
      "execution_count": 52,
      "outputs": []
    },
    {
      "cell_type": "markdown",
      "source": [
        "## Miremos cuantos archivos tenemos"
      ],
      "metadata": {
        "id": "brcoP6eSeNqZ"
      }
    },
    {
      "cell_type": "code",
      "source": [
        "files <- list.files(\"/content/\") #Esta función me lista los archivos que se encuentran en la carpeta de destino que le indico\n",
        "files"
      ],
      "metadata": {
        "id": "geNHICfieNQ7",
        "colab": {
          "base_uri": "https://localhost:8080/",
          "height": 34
        },
        "outputId": "b376617d-4561-45b0-f4ce-a903ef14aaa4"
      },
      "execution_count": 53,
      "outputs": [
        {
          "output_type": "display_data",
          "data": {
            "text/html": [
              "<style>\n",
              ".list-inline {list-style: none; margin:0; padding: 0}\n",
              ".list-inline>li {display: inline-block}\n",
              ".list-inline>li:not(:last-child)::after {content: \"\\00b7\"; padding: 0 .5ex}\n",
              "</style>\n",
              "<ol class=list-inline><li>'Datos_PERSIANN_PDIR.zip'</li><li>'info.txt'</li><li>'PDIR_2023-10-25103925pm_202310.nc'</li><li>'read_netcdf.m'</li><li>'read_netcdf.py'</li><li>'sample_data'</li></ol>\n"
            ],
            "text/markdown": "1. 'Datos_PERSIANN_PDIR.zip'\n2. 'info.txt'\n3. 'PDIR_2023-10-25103925pm_202310.nc'\n4. 'read_netcdf.m'\n5. 'read_netcdf.py'\n6. 'sample_data'\n\n\n",
            "text/latex": "\\begin{enumerate*}\n\\item 'Datos\\_PERSIANN\\_PDIR.zip'\n\\item 'info.txt'\n\\item 'PDIR\\_2023-10-25103925pm\\_202310.nc'\n\\item 'read\\_netcdf.m'\n\\item 'read\\_netcdf.py'\n\\item 'sample\\_data'\n\\end{enumerate*}\n",
            "text/plain": [
              "[1] \"Datos_PERSIANN_PDIR.zip\"           \"info.txt\"                         \n",
              "[3] \"PDIR_2023-10-25103925pm_202310.nc\" \"read_netcdf.m\"                    \n",
              "[5] \"read_netcdf.py\"                    \"sample_data\"                      "
            ]
          },
          "metadata": {}
        }
      ]
    },
    {
      "cell_type": "markdown",
      "source": [
        "Miremos uno de los archivos NCDF, y lo abrimos con la función nc_open. Como vieron en la teórica y lo que más van a utilizar es si van a permitir o no la escritura del archivo, que lo determinan con el argumento **write**.\n",
        "\n",
        "\\\n",
        "***nc_open( filename, write=FALSE, readunlim=TRUE, verbose=FALSE, auto_GMT=TRUE, suppress_dimvals=FALSE, return_on_error=FALSE )***"
      ],
      "metadata": {
        "id": "gYHb2sk4b6H4"
      }
    },
    {
      "cell_type": "code",
      "source": [
        "datos_PERSIANN <- nc_open(filename = paste0(\"/content/\", files[3]) )"
      ],
      "metadata": {
        "id": "6mKz2nv2qZO0"
      },
      "execution_count": 54,
      "outputs": []
    },
    {
      "cell_type": "markdown",
      "source": [
        "Veamos que hay dentro de estos archivos, esto se puede saber llamando al archivo NCDF por pantalla (como vamos a hacer) o mirar la documentación de donde vienen los datos."
      ],
      "metadata": {
        "id": "sFthSoZlgXGX"
      }
    },
    {
      "cell_type": "code",
      "source": [
        "datos_PERSIANN"
      ],
      "metadata": {
        "id": "MU5NWViha4c4",
        "colab": {
          "base_uri": "https://localhost:8080/",
          "height": 382
        },
        "outputId": "f7cf158e-1666-47ae-c2e7-299cf5e4698c"
      },
      "execution_count": 55,
      "outputs": [
        {
          "output_type": "display_data",
          "data": {
            "text/plain": [
              "File /content/PDIR_2023-10-25103925pm_202310.nc (NC_FORMAT_NETCDF4):\n",
              "\n",
              "     2 variables (excluding dimension variables):\n",
              "        int crs[]   (Contiguous storage)  \n",
              "            long_name: Lon/Lat Coords in WGS84\n",
              "            grid_mapping_name: latitude_longitude\n",
              "            longitude_of_prime_meridian: 0\n",
              "            semi_major_axis: 6378137\n",
              "            inverse_flattening: 298.257223563\n",
              "        short precip[lon,lat,datetime]   (Chunking: [16,16,12])  (Compression: shuffle,level 4)\n",
              "            grid_mapping: crs\n",
              "\n",
              "     3 dimensions:\n",
              "        lon  Size:175 \n",
              "        lat  Size:275 \n",
              "        datetime  Size:144   *** is unlimited *** \n",
              "            units: hours since 2023-10-20 00\n",
              "            calendar: gregorian\n",
              "\n",
              "    1 global attributes:\n",
              "        Conventions: CF-1.6"
            ]
          },
          "metadata": {}
        }
      ]
    },
    {
      "cell_type": "markdown",
      "source": [
        "Observen toda la información que nos da el archivo:\n",
        "- La cantidad de variables.\n",
        "- El tipo de dato de cada variable, su nombre, por cuales dimensiones están conformadas, y las dimensiones.\n",
        "- Las unidades, su nombre estándar y nombre largo, con que tipo de reticulado están definidos y en que coordenadas están cada variable.\n",
        "- Las específicaciones de las dimensiones de los datos.\n",
        "- Atributos globales, estos son datos de configuración del modelo.\n",
        "\n",
        "Si queremos extraer uno de los datos podemos utilizar la función ***ncvar_get***. Y cerramos el archivo con la función ***nc_close*** , recuerden siempre de cerrar los achivos NCDF que abren y no utilizan más, porque si no llenan la memoria de archivos abiertos."
      ],
      "metadata": {
        "id": "s3t6Wt5ggzK1"
      }
    },
    {
      "cell_type": "code",
      "source": [
        "datos_PP <- ncvar_get(datos_PERSIANN, \"precip\") #Extraemos la precipitación horaria en superficie\n",
        "\n",
        "nc_close(datos_PERSIANN)"
      ],
      "metadata": {
        "id": "_UkHwinGrpRt"
      },
      "execution_count": 56,
      "outputs": []
    },
    {
      "cell_type": "markdown",
      "source": [
        "#**Ejercicio**\n",
        "\n",
        "Con los datos que descargaron:\n",
        "\n",
        "* Imprimir por pantalla la precipitación máxima del día en la región y en que horario ocurrió. El mensaje debe estar estructurado de la siguiente manera: \"La precipitacion maxima para el dia dd de mm del YYYY ocurrio a las HH UTC y llovio  de **PP** mm.\"."
      ],
      "metadata": {
        "id": "buCKhstM1A5d"
      }
    },
    {
      "cell_type": "code",
      "source": [
        "maximo_diario<-c()\n",
        "j<-1\n",
        "for(i in seq(1,144,by=24)){\n",
        "  maximo_diario[j]<-max(datos_PP[,,i:(i+23)])\n",
        "  j<-j+1\n",
        "}\n"
      ],
      "metadata": {
        "id": "GOSJFf9Sy8Vf"
      },
      "execution_count": 94,
      "outputs": []
    },
    {
      "cell_type": "markdown",
      "source": [
        "<b>No se olviden de guardar en Github!</b>\n",
        "\n",
        "Van a Archivo ⇒ Guardar una copia en Github. (Les va a pedir usuario y contraseña)\n",
        "\n",
        "Si alguna ves requieren clonar su carpeta en colab puede utilizar los comando de Git de esta manera."
      ],
      "metadata": {
        "id": "P-ps5r030WaD"
      }
    },
    {
      "cell_type": "code",
      "source": [
        "! git clone link #Inserten su link"
      ],
      "metadata": {
        "id": "304TJWEG0V3S"
      },
      "execution_count": null,
      "outputs": []
    }
  ]
}